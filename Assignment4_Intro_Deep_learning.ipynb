{
  "nbformat": 4,
  "nbformat_minor": 0,
  "metadata": {
    "colab": {
      "provenance": []
    },
    "kernelspec": {
      "name": "python3",
      "display_name": "Python 3"
    },
    "language_info": {
      "name": "python"
    },
    "accelerator": "GPU"
  },
  "cells": [
    {
      "cell_type": "markdown",
      "metadata": {
        "id": "zJ62p3epTrs6"
      },
      "source": [
        "# Name: Carlos Gross-Martinez\n",
        "# Z Number: 23226341\n",
        "#https://colab.research.google.com/drive/1EoCY8UM-CeII6vpjeiBzBT4-zMj3Aoct?usp=sharing\n",
        "#Problem: 2 - Application of Keras to build, compile, and train a neural network to perform XOR operations"
      ]
    },
    {
      "cell_type": "code",
      "metadata": {
        "id": "sHGOcGWyThMB",
        "colab": {
          "base_uri": "https://localhost:8080/",
          "height": 283
        },
        "outputId": "72c998e8-3e97-4a1f-dc46-f266a21aebfb"
      },
      "source": [
        "import numpy as np\n",
        "import matplotlib.pyplot as plt\n",
        "from keras.models import Sequential\n",
        "from keras.layers import Dense\n",
        "from keras.optimizers import SGD\n",
        "\n",
        "c0 = np.array([[0,0],[1,1]])\n",
        "c1 = np.array([[0,1],[1,0]])\n",
        "\n",
        "features = np.array([[0,0],[0,1],[1,0],[1,1]])\n",
        "features_labels = np.array([[0],[1],[1],[0]])\n",
        "classes = [0,1]\n",
        "\n",
        "plt.figure\n",
        "plt.plot(c0[:,0], c0[:,1], 'b*', c1[:,0], c1[:,1],'ro')\n",
        "plt.axis([-1,2,-1,2])\n",
        "plt.xlabel('X - Feature 1')\n",
        "plt.ylabel('Y - Feature 2')\n",
        "plt.legend(['Class 0','Class 1'])\n",
        "plt.show()"
      ],
      "execution_count": null,
      "outputs": [
        {
          "output_type": "display_data",
          "data": {
            "image/png": "[encoded data removed]",
            "text/plain": [
              "<Figure size 432x288 with 1 Axes>"
            ]
          },
          "metadata": {
            "tags": [],
            "needs_background": "light"
          }
        }
      ]
    },
    {
      "cell_type": "markdown",
      "metadata": {
        "id": "BSe54h90RRJ5"
      },
      "source": [
        "#Answer to 2c\n",
        "Based on the plot, I believe that once hidden layer with two nodes will suffice the model to properly classify the training data points correctly. This assumption is based in that each neuron or node in the hidden layer is able procure a threshold which will classify different aspects of the model. Based on the picture, one threshold of one neuron can be used to learn to recognize the difference be between the 2 class 0 data points and the class 1 data point located in the top left of the quadrant. The second threshold on the other neuron can be used to learn the difference be between the 2 class 0 data points and the class 1 data point located in the bottom right of the quadrant. Finally, the output layer will only require one neuron or node to process the outputs from the two nodes located in the hidden layer"
      ]
    },
    {
      "cell_type": "code",
      "metadata": {
        "colab": {
          "base_uri": "https://localhost:8080/"
        },
        "id": "mRGNEkuwSHvj",
        "outputId": "657e4c41-dc55-4029-9176-7274ac304246"
      },
      "source": [
        "#defining model\n",
        "model_a = Sequential()\n",
        "model_a.add(Dense(input_dim=2, units=2, activation='sigmoid'))\n",
        "model_a.add(Dense(input_dim=2, units=1, activation='sigmoid'))\n",
        "model_a.summary()"
      ],
      "execution_count": null,
      "outputs": [
        {
          "output_type": "stream",
          "text": [
            "Model: \"sequential\"\n",
            "_________________________________________________________________\n",
            "Layer (type)                 Output Shape              Param #   \n",
            "=================================================================\n",
            "dense (Dense)                (None, 2)                 6         \n",
            "_________________________________________________________________\n",
            "dense_1 (Dense)              (None, 1)                 3         \n",
            "=================================================================\n",
            "Total params: 9\n",
            "Trainable params: 9\n",
            "Non-trainable params: 0\n",
            "_________________________________________________________________\n"
          ],
          "name": "stdout"
        }
      ]
    },
    {
      "cell_type": "markdown",
      "metadata": {
        "id": "GKKstu41b7VA"
      },
      "source": [
        "#Answer to 2e\n",
        "Based on the fact that we trying to train a model to make a binary classification, the best loss function to be implemented is the binary classification loss function cross entropy"
      ]
    },
    {
      "cell_type": "code",
      "metadata": {
        "id": "wSRfEqWzamqE"
      },
      "source": [
        "#compiling the model\n",
        "model_a.compile(loss='binary_crossentropy',\n",
        "                optimizer=SGD(lr=0.1),\n",
        "                metrics=['accuracy'])"
      ],
      "execution_count": null,
      "outputs": []
    },
    {
      "cell_type": "code",
      "metadata": {
        "colab": {
          "base_uri": "https://localhost:8080/"
        },
        "id": "gh4s5LlPdFn2",
        "outputId": "ac439689-51b3-4f4a-95bc-20aeffbd5abb"
      },
      "source": [
        "#training the model\n",
        "history = model_a.fit(features, features_labels,\n",
        "                      batch_size=1,\n",
        "                      epochs=200,\n",
        "                      verbose=1)"
      ],
      "execution_count": null,
      "outputs": [
        {
          "output_type": "stream",
          "text": [
            "Epoch 1/200\n",
            "4/4 [==============================] - 3s 3ms/step - loss: 0.7799 - accuracy: 0.4333\n",
            "Epoch 2/200\n",
            "4/4 [==============================] - 0s 2ms/step - loss: 0.6822 - accuracy: 0.5667\n",
            "Epoch 3/200\n",
            "4/4 [==============================] - 0s 2ms/step - loss: 0.6359 - accuracy: 0.7333\n",
            "Epoch 4/200\n",
            "4/4 [==============================] - 0s 3ms/step - loss: 0.6373 - accuracy: 0.7333\n",
            "Epoch 5/200\n",
            "4/4 [==============================] - 0s 2ms/step - loss: 0.7091 - accuracy: 0.4333\n",
            "Epoch 6/200\n",
            "4/4 [==============================] - 0s 3ms/step - loss: 0.7192 - accuracy: 0.3667\n",
            "Epoch 7/200\n",
            "4/4 [==============================] - 0s 3ms/step - loss: 0.7402 - accuracy: 0.4333\n",
            "Epoch 8/200\n",
            "4/4 [==============================] - 0s 2ms/step - loss: 0.7460 - accuracy: 0.3667\n",
            "Epoch 9/200\n",
            "4/4 [==============================] - 0s 4ms/step - loss: 0.6734 - accuracy: 0.7333\n",
            "Epoch 10/200\n",
            "4/4 [==============================] - 0s 3ms/step - loss: 0.6779 - accuracy: 0.6333\n",
            "Epoch 11/200\n",
            "4/4 [==============================] - 0s 2ms/step - loss: 0.7258 - accuracy: 0.4333\n",
            "Epoch 12/200\n",
            "4/4 [==============================] - 0s 3ms/step - loss: 0.7161 - accuracy: 0.5667\n",
            "Epoch 13/200\n",
            "4/4 [==============================] - 0s 3ms/step - loss: 0.6996 - accuracy: 0.6333\n",
            "Epoch 14/200\n",
            "4/4 [==============================] - 0s 3ms/step - loss: 0.6964 - accuracy: 0.4667\n",
            "Epoch 15/200\n",
            "4/4 [==============================] - 0s 3ms/step - loss: 0.7013 - accuracy: 0.4667\n",
            "Epoch 16/200\n",
            "4/4 [==============================] - 0s 2ms/step - loss: 0.7019 - accuracy: 0.4667\n",
            "Epoch 17/200\n",
            "4/4 [==============================] - 0s 3ms/step - loss: 0.6909 - accuracy: 0.2667\n",
            "Epoch 18/200\n",
            "4/4 [==============================] - 0s 4ms/step - loss: 0.7059 - accuracy: 0.5667\n",
            "Epoch 19/200\n",
            "4/4 [==============================] - 0s 4ms/step - loss: 0.6864 - accuracy: 0.4667\n",
            "Epoch 20/200\n",
            "4/4 [==============================] - 0s 4ms/step - loss: 0.7005 - accuracy: 0.5667\n",
            "Epoch 21/200\n",
            "4/4 [==============================] - 0s 2ms/step - loss: 0.7111 - accuracy: 0.2667\n",
            "Epoch 22/200\n",
            "4/4 [==============================] - 0s 4ms/step - loss: 0.6863 - accuracy: 0.4667\n",
            "Epoch 23/200\n",
            "4/4 [==============================] - 0s 3ms/step - loss: 0.7120 - accuracy: 0.1000\n",
            "Epoch 24/200\n",
            "4/4 [==============================] - 0s 3ms/step - loss: 0.7063 - accuracy: 0.1667\n",
            "Epoch 25/200\n",
            "4/4 [==============================] - 0s 3ms/step - loss: 0.7070 - accuracy: 0.2667\n",
            "Epoch 26/200\n",
            "4/4 [==============================] - 0s 3ms/step - loss: 0.7029 - accuracy: 0.2667\n",
            "Epoch 27/200\n",
            "4/4 [==============================] - 0s 3ms/step - loss: 0.7224 - accuracy: 0.1667\n",
            "Epoch 28/200\n",
            "4/4 [==============================] - 0s 5ms/step - loss: 0.7132 - accuracy: 0.0000e+00\n",
            "Epoch 29/200\n",
            "4/4 [==============================] - 0s 3ms/step - loss: 0.6890 - accuracy: 0.7333\n",
            "Epoch 30/200\n",
            "4/4 [==============================] - 0s 3ms/step - loss: 0.6914 - accuracy: 0.7333\n",
            "Epoch 31/200\n",
            "4/4 [==============================] - 0s 3ms/step - loss: 0.7097 - accuracy: 0.1667\n",
            "Epoch 32/200\n",
            "4/4 [==============================] - 0s 3ms/step - loss: 0.6960 - accuracy: 0.8333\n",
            "Epoch 33/200\n",
            "4/4 [==============================] - 0s 3ms/step - loss: 0.6896 - accuracy: 0.4667\n",
            "Epoch 34/200\n",
            "4/4 [==============================] - 0s 3ms/step - loss: 0.7220 - accuracy: 0.2667\n",
            "Epoch 35/200\n",
            "4/4 [==============================] - 0s 3ms/step - loss: 0.7040 - accuracy: 0.5667\n",
            "Epoch 36/200\n",
            "4/4 [==============================] - 0s 3ms/step - loss: 0.6920 - accuracy: 0.7333\n",
            "Epoch 37/200\n",
            "4/4 [==============================] - 0s 4ms/step - loss: 0.6931 - accuracy: 0.4667\n",
            "Epoch 38/200\n",
            "4/4 [==============================] - 0s 4ms/step - loss: 0.6925 - accuracy: 0.7333\n",
            "Epoch 39/200\n",
            "4/4 [==============================] - 0s 3ms/step - loss: 0.7064 - accuracy: 0.2667\n",
            "Epoch 40/200\n",
            "4/4 [==============================] - 0s 3ms/step - loss: 0.7022 - accuracy: 0.2667\n",
            "Epoch 41/200\n",
            "4/4 [==============================] - 0s 3ms/step - loss: 0.6988 - accuracy: 0.6333\n",
            "Epoch 42/200\n",
            "4/4 [==============================] - 0s 3ms/step - loss: 0.7050 - accuracy: 0.2667\n",
            "Epoch 43/200\n",
            "4/4 [==============================] - 0s 3ms/step - loss: 0.7051 - accuracy: 0.5667\n",
            "Epoch 44/200\n",
            "4/4 [==============================] - 0s 3ms/step - loss: 0.6938 - accuracy: 0.7333\n",
            "Epoch 45/200\n",
            "4/4 [==============================] - 0s 2ms/step - loss: 0.6958 - accuracy: 0.4667\n",
            "Epoch 46/200\n",
            "4/4 [==============================] - 0s 3ms/step - loss: 0.6950 - accuracy: 0.7333\n",
            "Epoch 47/200\n",
            "4/4 [==============================] - 0s 4ms/step - loss: 0.7064 - accuracy: 0.1667\n",
            "Epoch 48/200\n",
            "4/4 [==============================] - 0s 3ms/step - loss: 0.7123 - accuracy: 0.4333\n",
            "Epoch 49/200\n",
            "4/4 [==============================] - 0s 3ms/step - loss: 0.7155 - accuracy: 0.2667\n",
            "Epoch 50/200\n",
            "4/4 [==============================] - 0s 3ms/step - loss: 0.7180 - accuracy: 0.1667\n",
            "Epoch 51/200\n",
            "4/4 [==============================] - 0s 3ms/step - loss: 0.6989 - accuracy: 0.6333\n",
            "Epoch 52/200\n",
            "4/4 [==============================] - 0s 3ms/step - loss: 0.6922 - accuracy: 0.7333\n",
            "Epoch 53/200\n",
            "4/4 [==============================] - 0s 3ms/step - loss: 0.6913 - accuracy: 0.7333\n",
            "Epoch 54/200\n",
            "4/4 [==============================] - 0s 3ms/step - loss: 0.7017 - accuracy: 0.2667\n",
            "Epoch 55/200\n",
            "4/4 [==============================] - 0s 3ms/step - loss: 0.7019 - accuracy: 0.4667\n",
            "Epoch 56/200\n",
            "4/4 [==============================] - 0s 3ms/step - loss: 0.6908 - accuracy: 0.4667\n",
            "Epoch 57/200\n",
            "4/4 [==============================] - 0s 3ms/step - loss: 0.7087 - accuracy: 0.3667\n",
            "Epoch 58/200\n",
            "4/4 [==============================] - 0s 2ms/step - loss: 0.7106 - accuracy: 0.3667\n",
            "Epoch 59/200\n",
            "4/4 [==============================] - 0s 3ms/step - loss: 0.7063 - accuracy: 0.1667\n",
            "Epoch 60/200\n",
            "4/4 [==============================] - 0s 3ms/step - loss: 0.7158 - accuracy: 0.2667\n",
            "Epoch 61/200\n",
            "4/4 [==============================] - 0s 3ms/step - loss: 0.6914 - accuracy: 0.7333\n",
            "Epoch 62/200\n",
            "4/4 [==============================] - 0s 4ms/step - loss: 0.7215 - accuracy: 0.1667\n",
            "Epoch 63/200\n",
            "4/4 [==============================] - 0s 3ms/step - loss: 0.6913 - accuracy: 0.7333\n",
            "Epoch 64/200\n",
            "4/4 [==============================] - 0s 3ms/step - loss: 0.7087 - accuracy: 0.3667\n",
            "Epoch 65/200\n",
            "4/4 [==============================] - 0s 3ms/step - loss: 0.7063 - accuracy: 0.2667\n",
            "Epoch 66/200\n",
            "4/4 [==============================] - 0s 3ms/step - loss: 0.7080 - accuracy: 0.2667\n",
            "Epoch 67/200\n",
            "4/4 [==============================] - 0s 3ms/step - loss: 0.6947 - accuracy: 0.7333\n",
            "Epoch 68/200\n",
            "4/4 [==============================] - 0s 3ms/step - loss: 0.7182 - accuracy: 0.2667\n",
            "Epoch 69/200\n",
            "4/4 [==============================] - 0s 3ms/step - loss: 0.7226 - accuracy: 0.1667\n",
            "Epoch 70/200\n",
            "4/4 [==============================] - 0s 3ms/step - loss: 0.6899 - accuracy: 0.4667\n",
            "Epoch 71/200\n",
            "4/4 [==============================] - 0s 5ms/step - loss: 0.6901 - accuracy: 0.4667\n",
            "Epoch 72/200\n",
            "4/4 [==============================] - 0s 3ms/step - loss: 0.7109 - accuracy: 0.3667\n",
            "Epoch 73/200\n",
            "4/4 [==============================] - 0s 3ms/step - loss: 0.7184 - accuracy: 0.2667\n",
            "Epoch 74/200\n",
            "4/4 [==============================] - 0s 3ms/step - loss: 0.6900 - accuracy: 0.4667\n",
            "Epoch 75/200\n",
            "4/4 [==============================] - 0s 3ms/step - loss: 0.6934 - accuracy: 0.7333\n",
            "Epoch 76/200\n",
            "4/4 [==============================] - 0s 3ms/step - loss: 0.7003 - accuracy: 0.4667\n",
            "Epoch 77/200\n",
            "4/4 [==============================] - 0s 3ms/step - loss: 0.6878 - accuracy: 0.7333\n",
            "Epoch 78/200\n",
            "4/4 [==============================] - 0s 3ms/step - loss: 0.6949 - accuracy: 0.8333\n",
            "Epoch 79/200\n",
            "4/4 [==============================] - 0s 3ms/step - loss: 0.7034 - accuracy: 0.5667\n",
            "Epoch 80/200\n",
            "4/4 [==============================] - 0s 4ms/step - loss: 0.7217 - accuracy: 0.2667\n",
            "Epoch 81/200\n",
            "4/4 [==============================] - 0s 4ms/step - loss: 0.6996 - accuracy: 0.2667\n",
            "Epoch 82/200\n",
            "4/4 [==============================] - 0s 3ms/step - loss: 0.7095 - accuracy: 0.1667\n",
            "Epoch 83/200\n",
            "4/4 [==============================] - 0s 3ms/step - loss: 0.6931 - accuracy: 0.7333\n",
            "Epoch 84/200\n",
            "4/4 [==============================] - 0s 3ms/step - loss: 0.7017 - accuracy: 0.4667\n",
            "Epoch 85/200\n",
            "4/4 [==============================] - 0s 2ms/step - loss: 0.7195 - accuracy: 0.1667\n",
            "Epoch 86/200\n",
            "4/4 [==============================] - 0s 3ms/step - loss: 0.7197 - accuracy: 0.1667\n",
            "Epoch 87/200\n",
            "4/4 [==============================] - 0s 3ms/step - loss: 0.7197 - accuracy: 0.1667\n",
            "Epoch 88/200\n",
            "4/4 [==============================] - 0s 3ms/step - loss: 0.6907 - accuracy: 0.7333\n",
            "Epoch 89/200\n",
            "4/4 [==============================] - 0s 3ms/step - loss: 0.7003 - accuracy: 0.2667\n",
            "Epoch 90/200\n",
            "4/4 [==============================] - 0s 6ms/step - loss: 0.6909 - accuracy: 0.4667\n",
            "Epoch 91/200\n",
            "4/4 [==============================] - 0s 4ms/step - loss: 0.6909 - accuracy: 0.4667\n",
            "Epoch 92/200\n",
            "4/4 [==============================] - 0s 3ms/step - loss: 0.7061 - accuracy: 0.2667\n",
            "Epoch 93/200\n",
            "4/4 [==============================] - 0s 3ms/step - loss: 0.7128 - accuracy: 0.0000e+00\n",
            "Epoch 94/200\n",
            "4/4 [==============================] - 0s 3ms/step - loss: 0.6974 - accuracy: 0.6333\n",
            "Epoch 95/200\n",
            "4/4 [==============================] - 0s 3ms/step - loss: 0.6915 - accuracy: 0.7333\n",
            "Epoch 96/200\n",
            "4/4 [==============================] - 0s 3ms/step - loss: 0.6897 - accuracy: 0.4667\n",
            "Epoch 97/200\n",
            "4/4 [==============================] - 0s 3ms/step - loss: 0.6905 - accuracy: 0.4667\n",
            "Epoch 98/200\n",
            "4/4 [==============================] - 0s 4ms/step - loss: 0.7069 - accuracy: 0.3667\n",
            "Epoch 99/200\n",
            "4/4 [==============================] - 0s 3ms/step - loss: 0.7103 - accuracy: 0.4333\n",
            "Epoch 100/200\n",
            "4/4 [==============================] - 0s 3ms/step - loss: 0.7037 - accuracy: 0.2667\n",
            "Epoch 101/200\n",
            "4/4 [==============================] - 0s 3ms/step - loss: 0.7074 - accuracy: 0.3667\n",
            "Epoch 102/200\n",
            "4/4 [==============================] - 0s 3ms/step - loss: 0.6928 - accuracy: 0.7333\n",
            "Epoch 103/200\n",
            "4/4 [==============================] - 0s 3ms/step - loss: 0.6923 - accuracy: 0.7333\n",
            "Epoch 104/200\n",
            "4/4 [==============================] - 0s 3ms/step - loss: 0.6899 - accuracy: 0.4667\n",
            "Epoch 105/200\n",
            "4/4 [==============================] - 0s 3ms/step - loss: 0.6921 - accuracy: 0.7333\n",
            "Epoch 106/200\n",
            "4/4 [==============================] - 0s 3ms/step - loss: 0.6932 - accuracy: 0.7333\n",
            "Epoch 107/200\n",
            "4/4 [==============================] - 0s 3ms/step - loss: 0.6936 - accuracy: 0.7333\n",
            "Epoch 108/200\n",
            "4/4 [==============================] - 0s 3ms/step - loss: 0.6890 - accuracy: 0.4667\n",
            "Epoch 109/200\n",
            "4/4 [==============================] - 0s 3ms/step - loss: 0.7108 - accuracy: 0.4333\n",
            "Epoch 110/200\n",
            "4/4 [==============================] - 0s 3ms/step - loss: 0.6911 - accuracy: 0.7333\n",
            "Epoch 111/200\n",
            "4/4 [==============================] - 0s 3ms/step - loss: 0.7010 - accuracy: 0.2667\n",
            "Epoch 112/200\n",
            "4/4 [==============================] - 0s 4ms/step - loss: 0.7199 - accuracy: 0.1667\n",
            "Epoch 113/200\n",
            "4/4 [==============================] - 0s 3ms/step - loss: 0.7017 - accuracy: 0.4667\n",
            "Epoch 114/200\n",
            "4/4 [==============================] - 0s 3ms/step - loss: 0.7195 - accuracy: 0.1667\n",
            "Epoch 115/200\n",
            "4/4 [==============================] - 0s 3ms/step - loss: 0.6907 - accuracy: 0.7333\n",
            "Epoch 116/200\n",
            "4/4 [==============================] - 0s 3ms/step - loss: 0.7089 - accuracy: 0.3667\n",
            "Epoch 117/200\n",
            "4/4 [==============================] - 0s 3ms/step - loss: 0.6893 - accuracy: 0.4667\n",
            "Epoch 118/200\n",
            "4/4 [==============================] - 0s 3ms/step - loss: 0.7179 - accuracy: 0.1667\n",
            "Epoch 119/200\n",
            "4/4 [==============================] - 0s 3ms/step - loss: 0.7011 - accuracy: 0.2667\n",
            "Epoch 120/200\n",
            "4/4 [==============================] - 0s 3ms/step - loss: 0.7127 - accuracy: 0.0000e+00\n",
            "Epoch 121/200\n",
            "4/4 [==============================] - 0s 3ms/step - loss: 0.6955 - accuracy: 0.8333\n",
            "Epoch 122/200\n",
            "4/4 [==============================] - 0s 3ms/step - loss: 0.7029 - accuracy: 0.5667\n",
            "Epoch 123/200\n",
            "4/4 [==============================] - 0s 3ms/step - loss: 0.6978 - accuracy: 0.5667\n",
            "Epoch 124/200\n",
            "4/4 [==============================] - 0s 3ms/step - loss: 0.6923 - accuracy: 0.7333\n",
            "Epoch 125/200\n",
            "4/4 [==============================] - 0s 3ms/step - loss: 0.7218 - accuracy: 0.2667\n",
            "Epoch 126/200\n",
            "4/4 [==============================] - 0s 4ms/step - loss: 0.7210 - accuracy: 0.1667\n",
            "Epoch 127/200\n",
            "4/4 [==============================] - 0s 3ms/step - loss: 0.7027 - accuracy: 0.2667\n",
            "Epoch 128/200\n",
            "4/4 [==============================] - 0s 3ms/step - loss: 0.6936 - accuracy: 0.8333\n",
            "Epoch 129/200\n",
            "4/4 [==============================] - 0s 5ms/step - loss: 0.7194 - accuracy: 0.1667\n",
            "Epoch 130/200\n",
            "4/4 [==============================] - 0s 4ms/step - loss: 0.6941 - accuracy: 0.7333\n",
            "Epoch 131/200\n",
            "4/4 [==============================] - 0s 3ms/step - loss: 0.6921 - accuracy: 0.7333\n",
            "Epoch 132/200\n",
            "4/4 [==============================] - 0s 3ms/step - loss: 0.6929 - accuracy: 0.7333\n",
            "Epoch 133/200\n",
            "4/4 [==============================] - 0s 3ms/step - loss: 0.6912 - accuracy: 0.4667\n",
            "Epoch 134/200\n",
            "4/4 [==============================] - 0s 3ms/step - loss: 0.7066 - accuracy: 0.3667\n",
            "Epoch 135/200\n",
            "4/4 [==============================] - 0s 3ms/step - loss: 0.7125 - accuracy: 0.1000\n",
            "Epoch 136/200\n",
            "4/4 [==============================] - 0s 3ms/step - loss: 0.6922 - accuracy: 0.7333\n",
            "Epoch 137/200\n",
            "4/4 [==============================] - 0s 3ms/step - loss: 0.6927 - accuracy: 0.7333\n",
            "Epoch 138/200\n",
            "4/4 [==============================] - 0s 3ms/step - loss: 0.7213 - accuracy: 0.2667\n",
            "Epoch 139/200\n",
            "4/4 [==============================] - 0s 4ms/step - loss: 0.7103 - accuracy: 0.3667\n",
            "Epoch 140/200\n",
            "4/4 [==============================] - 0s 3ms/step - loss: 0.6898 - accuracy: 0.4667\n",
            "Epoch 141/200\n",
            "4/4 [==============================] - 0s 3ms/step - loss: 0.7175 - accuracy: 0.2667\n",
            "Epoch 142/200\n",
            "4/4 [==============================] - 0s 3ms/step - loss: 0.7217 - accuracy: 0.2667\n",
            "Epoch 143/200\n",
            "4/4 [==============================] - 0s 3ms/step - loss: 0.7163 - accuracy: 0.1667\n",
            "Epoch 144/200\n",
            "4/4 [==============================] - 0s 3ms/step - loss: 0.6978 - accuracy: 0.5667\n",
            "Epoch 145/200\n",
            "4/4 [==============================] - 0s 3ms/step - loss: 0.6903 - accuracy: 0.7333\n",
            "Epoch 146/200\n",
            "4/4 [==============================] - 0s 3ms/step - loss: 0.7041 - accuracy: 0.2667\n",
            "Epoch 147/200\n",
            "4/4 [==============================] - 0s 3ms/step - loss: 0.7102 - accuracy: 0.3667\n",
            "Epoch 148/200\n",
            "4/4 [==============================] - 0s 3ms/step - loss: 0.7075 - accuracy: 0.2667\n",
            "Epoch 149/200\n",
            "4/4 [==============================] - 0s 3ms/step - loss: 0.6951 - accuracy: 0.7333\n",
            "Epoch 150/200\n",
            "4/4 [==============================] - 0s 3ms/step - loss: 0.6952 - accuracy: 0.7333\n",
            "Epoch 151/200\n",
            "4/4 [==============================] - 0s 3ms/step - loss: 0.6933 - accuracy: 0.7333\n",
            "Epoch 152/200\n",
            "4/4 [==============================] - 0s 3ms/step - loss: 0.6956 - accuracy: 0.6333\n",
            "Epoch 153/200\n",
            "4/4 [==============================] - 0s 4ms/step - loss: 0.7146 - accuracy: 0.2667\n",
            "Epoch 154/200\n",
            "4/4 [==============================] - 0s 4ms/step - loss: 0.7173 - accuracy: 0.2667\n",
            "Epoch 155/200\n",
            "4/4 [==============================] - 0s 3ms/step - loss: 0.7164 - accuracy: 0.1667\n",
            "Epoch 156/200\n",
            "4/4 [==============================] - 0s 3ms/step - loss: 0.7102 - accuracy: 0.4333\n",
            "Epoch 157/200\n",
            "4/4 [==============================] - 0s 3ms/step - loss: 0.6931 - accuracy: 0.7333\n",
            "Epoch 158/200\n",
            "4/4 [==============================] - 0s 3ms/step - loss: 0.6934 - accuracy: 0.7333\n",
            "Epoch 159/200\n",
            "4/4 [==============================] - 0s 3ms/step - loss: 0.6990 - accuracy: 0.4667\n",
            "Epoch 160/200\n",
            "4/4 [==============================] - 0s 3ms/step - loss: 0.6980 - accuracy: 0.6333\n",
            "Epoch 161/200\n",
            "4/4 [==============================] - 0s 4ms/step - loss: 0.7046 - accuracy: 0.2667\n",
            "Epoch 162/200\n",
            "4/4 [==============================] - 0s 4ms/step - loss: 0.7112 - accuracy: 0.4333\n",
            "Epoch 163/200\n",
            "4/4 [==============================] - 0s 3ms/step - loss: 0.7010 - accuracy: 0.2667\n",
            "Epoch 164/200\n",
            "4/4 [==============================] - 0s 3ms/step - loss: 0.6923 - accuracy: 0.7333\n",
            "Epoch 165/200\n",
            "4/4 [==============================] - 0s 4ms/step - loss: 0.7087 - accuracy: 0.1667\n",
            "Epoch 166/200\n",
            "4/4 [==============================] - 0s 3ms/step - loss: 0.7185 - accuracy: 0.1667\n",
            "Epoch 167/200\n",
            "4/4 [==============================] - 0s 3ms/step - loss: 0.6912 - accuracy: 0.4667\n",
            "Epoch 168/200\n",
            "4/4 [==============================] - 0s 3ms/step - loss: 0.7027 - accuracy: 0.2667\n",
            "Epoch 169/200\n",
            "4/4 [==============================] - 0s 3ms/step - loss: 0.7137 - accuracy: 0.2667\n",
            "Epoch 170/200\n",
            "4/4 [==============================] - 0s 4ms/step - loss: 0.6929 - accuracy: 0.4667\n",
            "Epoch 171/200\n",
            "4/4 [==============================] - 0s 3ms/step - loss: 0.6897 - accuracy: 0.4667\n",
            "Epoch 172/200\n",
            "4/4 [==============================] - 0s 3ms/step - loss: 0.7114 - accuracy: 0.1000\n",
            "Epoch 173/200\n",
            "4/4 [==============================] - 0s 3ms/step - loss: 0.7066 - accuracy: 0.1667\n",
            "Epoch 174/200\n",
            "4/4 [==============================] - 0s 3ms/step - loss: 0.7197 - accuracy: 0.2667\n",
            "Epoch 175/200\n",
            "4/4 [==============================] - 0s 3ms/step - loss: 0.6895 - accuracy: 0.4667\n",
            "Epoch 176/200\n",
            "4/4 [==============================] - 0s 3ms/step - loss: 0.6912 - accuracy: 0.7333\n",
            "Epoch 177/200\n",
            "4/4 [==============================] - 0s 3ms/step - loss: 0.6912 - accuracy: 0.7333\n",
            "Epoch 178/200\n",
            "4/4 [==============================] - 0s 3ms/step - loss: 0.6999 - accuracy: 0.4667\n",
            "Epoch 179/200\n",
            "4/4 [==============================] - 0s 3ms/step - loss: 0.7032 - accuracy: 0.2667\n",
            "Epoch 180/200\n",
            "4/4 [==============================] - 0s 4ms/step - loss: 0.6869 - accuracy: 0.7333\n",
            "Epoch 181/200\n",
            "4/4 [==============================] - 0s 3ms/step - loss: 0.6971 - accuracy: 0.6333\n",
            "Epoch 182/200\n",
            "4/4 [==============================] - 0s 3ms/step - loss: 0.7188 - accuracy: 0.1667\n",
            "Epoch 183/200\n",
            "4/4 [==============================] - 0s 3ms/step - loss: 0.7023 - accuracy: 0.2667\n",
            "Epoch 184/200\n",
            "4/4 [==============================] - 0s 4ms/step - loss: 0.6999 - accuracy: 0.4667\n",
            "Epoch 185/200\n",
            "4/4 [==============================] - 0s 3ms/step - loss: 0.7005 - accuracy: 0.4667\n",
            "Epoch 186/200\n",
            "4/4 [==============================] - 0s 3ms/step - loss: 0.6942 - accuracy: 0.8333\n",
            "Epoch 187/200\n",
            "4/4 [==============================] - 0s 3ms/step - loss: 0.7095 - accuracy: 0.4333\n",
            "Epoch 188/200\n",
            "4/4 [==============================] - 0s 3ms/step - loss: 0.7087 - accuracy: 0.3667\n",
            "Epoch 189/200\n",
            "4/4 [==============================] - 0s 4ms/step - loss: 0.7139 - accuracy: 0.2667\n",
            "Epoch 190/200\n",
            "4/4 [==============================] - 0s 3ms/step - loss: 0.7020 - accuracy: 0.2667\n",
            "Epoch 191/200\n",
            "4/4 [==============================] - 0s 3ms/step - loss: 0.7176 - accuracy: 0.1667\n",
            "Epoch 192/200\n",
            "4/4 [==============================] - 0s 3ms/step - loss: 0.6910 - accuracy: 0.4667\n",
            "Epoch 193/200\n",
            "4/4 [==============================] - 0s 3ms/step - loss: 0.6910 - accuracy: 0.7333\n",
            "Epoch 194/200\n",
            "4/4 [==============================] - 0s 4ms/step - loss: 0.6909 - accuracy: 0.7333\n",
            "Epoch 195/200\n",
            "4/4 [==============================] - 0s 3ms/step - loss: 0.6992 - accuracy: 0.2667\n",
            "Epoch 196/200\n",
            "4/4 [==============================] - 0s 3ms/step - loss: 0.6905 - accuracy: 0.4667\n",
            "Epoch 197/200\n",
            "4/4 [==============================] - 0s 4ms/step - loss: 0.6946 - accuracy: 0.8333\n",
            "Epoch 198/200\n",
            "4/4 [==============================] - 0s 4ms/step - loss: 0.6913 - accuracy: 0.7333\n",
            "Epoch 199/200\n",
            "4/4 [==============================] - 0s 3ms/step - loss: 0.7074 - accuracy: 0.1667\n",
            "Epoch 200/200\n",
            "4/4 [==============================] - 0s 3ms/step - loss: 0.6895 - accuracy: 0.7333\n"
          ],
          "name": "stdout"
        }
      ]
    },
    {
      "cell_type": "code",
      "metadata": {
        "colab": {
          "base_uri": "https://localhost:8080/",
          "height": 283
        },
        "id": "5sINp92Si2Fi",
        "outputId": "e5286a01-5cb1-46e1-86d0-c8921648f855"
      },
      "source": [
        "#retrieving model weights\n",
        "weights = model_a.layers[0].get_weights()\n",
        "\n",
        "node0_weights = np.array(weights[0][:,0])\n",
        "node0_weights = np.append(node0_weights, weights[1][0])\n",
        "node1_weights = np.array(weights[0][:,1])\n",
        "node1_weights = np.append(node1_weights, weights[1][1])\n",
        "\n",
        "#plotting of threshold lines\n",
        "plt.figure\n",
        "plt.plot(c0[:,0], c0[:,1], 'b*', c1[:,0], c1[:,1],'ro')\n",
        "plt.axis([-1,2,-1,2])\n",
        "node0_x1 = np.linspace(-1, 2, 50)\n",
        "node0_x2 = -(node0_weights[0] * node0_x1 + node0_weights[2]) / node0_weights[1]\n",
        "plt.plot(node0_x1, node0_x2, '-r')\n",
        "node1_x1 = np.linspace(-1, 2, 50)\n",
        "node1_x2 = -(node1_weights[0] * node1_x1 + node1_weights[2]) / node1_weights[1]\n",
        "plt.plot(node1_x1, node1_x2, '-r')\n",
        "plt.xlabel('X - Feature 1')\n",
        "plt.ylabel('Y - Feature 2')\n",
        "plt.legend(['Class 0','Class 1'])\n",
        "plt.show()"
      ],
      "execution_count": null,
      "outputs": [
        {
          "output_type": "display_data",
          "data": {
            "image/png": "[encoded data removed]",
            "text/plain": [
              "<Figure size 432x288 with 1 Axes>"
            ]
          },
          "metadata": {
            "tags": [],
            "needs_background": "light"
          }
        }
      ]
    },
    {
      "cell_type": "code",
      "metadata": {
        "colab": {
          "base_uri": "https://localhost:8080/",
          "height": 298
        },
        "id": "rTniE0NGgU56",
        "outputId": "6ec6ff9a-96a9-43c1-ccc6-0139b8ee5a5c"
      },
      "source": [
        "#plotting loss function\n",
        "plt.figure()\n",
        "#plt.plot(history.history['accuracy'])\n",
        "plt.plot(history.history['loss'])\n",
        "plt.title('Loss Function Graph')"
      ],
      "execution_count": null,
      "outputs": [
        {
          "output_type": "execute_result",
          "data": {
            "text/plain": [
              "Text(0.5, 1.0, 'Loss Function Graph')"
            ]
          },
          "metadata": {
            "tags": []
          },
          "execution_count": 6
        },
        {
          "output_type": "display_data",
          "data": {
            "image/png": "[encoded data removed]",
            "text/plain": [
              "<Figure size 432x288 with 1 Axes>"
            ]
          },
          "metadata": {
            "tags": [],
            "needs_background": "light"
          }
        }
      ]
    },
    {
      "cell_type": "markdown",
      "metadata": {
        "id": "4Yl43hf03Bso"
      },
      "source": [
        "#Answer to 2i\n"
      ]
    },
    {
      "cell_type": "code",
      "metadata": {
        "colab": {
          "base_uri": "https://localhost:8080/",
          "height": 768
        },
        "id": "3mtL6uSV3T52",
        "outputId": "25673376-482c-45c5-e9cb-5a3a01911e68"
      },
      "source": [
        "#defining model\n",
        "model_b = Sequential()\n",
        "model_b.add(Dense(input_dim=2, units=4, activation='sigmoid'))\n",
        "model_b.add(Dense(input_dim=2, units=1, activation='sigmoid'))\n",
        "model_b.summary()\n",
        "\n",
        "#compiling the model\n",
        "model_b.compile(loss='binary_crossentropy',\n",
        "                optimizer=SGD(lr=0.1),\n",
        "                metrics=['accuracy'])\n",
        "\n",
        "#training the model\n",
        "history = model_b.fit(features, features_labels,\n",
        "                      batch_size=1,\n",
        "                      epochs=400,\n",
        "                      verbose=0)\n",
        "\n",
        "#retrieving model weights\n",
        "weights = model_b.layers[0].get_weights()\n",
        "node0_weights = np.array(weights[0][:,0])\n",
        "node0_weights = np.append(node0_weights, weights[1][0])\n",
        "node1_weights = np.array(weights[0][:,1])\n",
        "node1_weights = np.append(node1_weights, weights[1][1])\n",
        "\n",
        "#plotting of threshold lines\n",
        "plt.figure\n",
        "plt.plot(c0[:,0], c0[:,1], 'b*', c1[:,0], c1[:,1],'ro')\n",
        "plt.axis([-1,2,-1,2])\n",
        "node0_x1 = np.linspace(-1, 2, 50)\n",
        "node0_x2 = -(node0_weights[0] * node0_x1 + node0_weights[2]) / node0_weights[1]\n",
        "plt.plot(node0_x1, node0_x2, '-r')\n",
        "node1_x1 = np.linspace(-1, 2, 50)\n",
        "node1_x2 = -(node1_weights[0] * node1_x1 + node1_weights[2]) / node1_weights[1]\n",
        "plt.plot(node1_x1, node1_x2, '-r')\n",
        "plt.xlabel('X - Feature 1')\n",
        "plt.ylabel('Y - Feature 2')\n",
        "plt.legend(['Class 0','Class 1'])\n",
        "plt.show()\n",
        "\n",
        "#plotting loss function\n",
        "plt.plot(history.history['loss'])\n",
        "plt.title('Loss Function Graph')"
      ],
      "execution_count": null,
      "outputs": [
        {
          "output_type": "stream",
          "text": [
            "Model: \"sequential_1\"\n",
            "_________________________________________________________________\n",
            "Layer (type)                 Output Shape              Param #   \n",
            "=================================================================\n",
            "dense_2 (Dense)              (None, 4)                 12        \n",
            "_________________________________________________________________\n",
            "dense_3 (Dense)              (None, 1)                 5         \n",
            "=================================================================\n",
            "Total params: 17\n",
            "Trainable params: 17\n",
            "Non-trainable params: 0\n",
            "_________________________________________________________________\n"
          ],
          "name": "stdout"
        },
        {
          "output_type": "display_data",
          "data": {
            "image/png": "[encoded data removed]",
            "text/plain": [
              "<Figure size 432x288 with 1 Axes>"
            ]
          },
          "metadata": {
            "tags": [],
            "needs_background": "light"
          }
        },
        {
          "output_type": "execute_result",
          "data": {
            "text/plain": [
              "Text(0.5, 1.0, 'Loss Function Graph')"
            ]
          },
          "metadata": {
            "tags": []
          },
          "execution_count": 7
        },
        {
          "output_type": "display_data",
          "data": {
            "image/png": "[encoded data removed]",
            "text/plain": [
              "<Figure size 432x288 with 1 Axes>"
            ]
          },
          "metadata": {
            "tags": [],
            "needs_background": "light"
          }
        }
      ]
    },
    {
      "cell_type": "markdown",
      "metadata": {
        "id": "H0wWHLpr6ML1"
      },
      "source": [
        "#Answer to 2j\n",
        "From adding more nodes to the classifier model, it can be noted that model with more neurons had an almost identical quality of classification of the sample data when compared to the model with less neurons. This can be easily noted by looking at the plots of the of both models for the threshold and the loss function graph. From the threshold graphs, it can be noted that both models were able to properly draw the threshold lines so that the two classes are properly separated. Moreover, the loss function graph from both models is very similar as well. Based on this information, it can be noted that the model with less neurons was able to reach the same level of performance as the model the with highest number of neurons. Based on this information, it can be concluded that the model with the smallest number of neurons is the best models as it requires less neurons to deliver the similar performance to the model with more neurons"
      ]
    },
    {
      "cell_type": "markdown",
      "metadata": {
        "id": "aYH0PgVwUk8p"
      },
      "source": [
        "#Problem: 3 - Application of Keras to build, compile, and train a neural network as a three-class classifier for MNIST dataset"
      ]
    },
    {
      "cell_type": "code",
      "metadata": {
        "colab": {
          "base_uri": "https://localhost:8080/"
        },
        "id": "citMqfFh_Bsk",
        "outputId": "68e9f635-ac8d-4098-d79c-cd69a4ea840c"
      },
      "source": [
        "import numpy as np\n",
        "import matplotlib.pyplot as plt\n",
        "from keras.models import Sequential\n",
        "from keras.layers import Dense\n",
        "from keras.optimizers import SGD\n",
        "from keras.datasets import mnist\n",
        "from keras.utils import to_categorical\n",
        "\n",
        "def feat_extract(images):\n",
        "  features = np.zeros((images.shape[0], 4))\n",
        "\n",
        "\n",
        "  features_temp = np.sum(images[:, 0:int(images.shape[1]/2),\n",
        "                                0:int(images.shape[2]/2)], axis=2) #top-left quadrant\n",
        "  features[:,0] = np.sum(features_temp,axis=1)/(14*14)\n",
        "\n",
        "\n",
        "  features_temp = np.sum(images[:, 0:int(images.shape[1]/2),\n",
        "                                int(images.shape[2]/2):], axis=2) #top-right quadrant\n",
        "  features[:,1] = np.sum(features_temp,axis=1)/(14*14)\n",
        "\n",
        "\n",
        "  features_temp = np.sum(images[:, int(images.shape[1]/2):,\n",
        "                                0:int(images.shape[2]/2)], axis=2) #bottom-left quadrant\n",
        "  features[:,2] = np.sum(features_temp,axis=1)/(14*14)\n",
        "\n",
        "\n",
        "  features_temp = np.sum(images[:, int(images.shape[1]/2):,\n",
        "                                int(images.shape[2]/2):], axis=2) #bottom-right quadrant\n",
        "  features[:,3] = np.sum(features_temp,axis=1)/(14*14)\n",
        "\n",
        "  return features\n",
        "\n",
        "\n",
        "#spliting MNIST dataset into training and testing sets\n",
        "(x_train, y_train), (x_test, y_test) = mnist.load_data()\n",
        "\n",
        "\n",
        "x_train = x_train[np.logical_or.reduce((y_train == 0, y_train == 1, y_train == 2)), :, :]\n",
        "y_train = y_train[np.logical_or.reduce((y_train == 0, y_train == 1, y_train == 2))]\n",
        "\n",
        "\n",
        "x_test = x_test[np.logical_or.reduce((y_test == 0, y_test == 1, y_test == 2)), :, :]\n",
        "y_test = y_test[np.logical_or.reduce((y_test == 0, y_test == 1, y_test == 2))]\n",
        "\n",
        "\n",
        "classes = [0, 1, 2]\n",
        "\n",
        "\n",
        "#shuffling the training set\n",
        "num_train_img = x_train.shape[0]\n",
        "train_ind = np.arange(0, num_train_img)\n",
        "train_ind_s = np.random.permutation(train_ind)\n",
        "\n",
        "\n",
        "#readjusting training set with new shuffle parameters\n",
        "x_train = x_train[train_ind_s,:,:]\n",
        "y_train = y_train[train_ind_s]\n",
        "\n",
        "\n",
        "#select 20% of the trainig set for validation\n",
        "x_valid = x_train[0 : int(0.2 * num_train_img),:,:]\n",
        "y_valid = y_train[0 : int(0.2 * num_train_img)]\n",
        "\n",
        "\n",
        "#select 80% of the trainig set for training\n",
        "x_train = x_train[int(0.2 * num_train_img):,:,:]\n",
        "y_train = y_train[int(0.2 * num_train_img):]"
      ],
      "execution_count": null,
      "outputs": [
        {
          "output_type": "stream",
          "text": [
            "Downloading data from https://storage.googleapis.com/tensorflow/tf-keras-datasets/mnist.npz\n",
            "11493376/11490434 [==============================] - 0s 0us/step\n"
          ],
          "name": "stdout"
        }
      ]
    },
    {
      "cell_type": "code",
      "metadata": {
        "colab": {
          "base_uri": "https://localhost:8080/"
        },
        "id": "ydbgLWgnQU9M",
        "outputId": "2798d132-fcd7-4f6e-d4cb-d33ebdf63de5"
      },
      "source": [
        "#extract features from data sets\n",
        "feature_train = feat_extract(x_train)\n",
        "feature_val = feat_extract(x_valid)\n",
        "feature_test = feat_extract(x_test)\n",
        "\n",
        "print(feature_train.shape)\n",
        "print(feature_train)\n",
        "\n",
        "#convert class vectors to binary class matrices\n",
        "y_train_categorical = to_categorical(y_train, len(classes))\n",
        "y_val_categorical = to_categorical(y_valid, len(classes))\n",
        "y_test_categorical = to_categorical(y_test, len(classes))\n",
        "\n",
        "print(y_train_categorical.shape)\n",
        "print(y_train_categorical)"
      ],
      "execution_count": null,
      "outputs": [
        {
          "output_type": "stream",
          "text": [
            "(14899, 4)\n",
            "[[24.80612245 18.11734694 20.59693878 46.86734694]\n",
            " [16.50510204 13.31632653 12.81122449 23.01530612]\n",
            " [36.10714286 57.90306122 59.70408163 35.46428571]\n",
            " ...\n",
            " [22.32653061 13.61734694 18.14795918 22.29081633]\n",
            " [ 0.98979592 37.45918367 31.24489796  8.87755102]\n",
            " [28.01530612 45.38265306 67.99489796 50.38265306]]\n",
            "(14899, 3)\n",
            "[[0. 0. 1.]\n",
            " [0. 1. 0.]\n",
            " [1. 0. 0.]\n",
            " ...\n",
            " [0. 0. 1.]\n",
            " [0. 1. 0.]\n",
            " [0. 0. 1.]]\n"
          ],
          "name": "stdout"
        }
      ]
    },
    {
      "cell_type": "code",
      "metadata": {
        "colab": {
          "base_uri": "https://localhost:8080/"
        },
        "id": "w65UTm_pSo2Z",
        "outputId": "21b0c44e-4cbc-4e14-d24e-5fa988013dc2"
      },
      "source": [
        "model_c = Sequential()\n",
        "model_c.add(Dense(input_dim=4, units=100, activation='tanh'))\n",
        "model_c.add(Dense(input_dim=100, units=50, activation='tanh'))\n",
        "model_c.add(Dense(units=len(classes), activation='softmax'))\n",
        "model_c.summary()"
      ],
      "execution_count": null,
      "outputs": [
        {
          "output_type": "stream",
          "text": [
            "Model: \"sequential\"\n",
            "_________________________________________________________________\n",
            "Layer (type)                 Output Shape              Param #   \n",
            "=================================================================\n",
            "dense (Dense)                (None, 100)               500       \n",
            "_________________________________________________________________\n",
            "dense_1 (Dense)              (None, 50)                5050      \n",
            "_________________________________________________________________\n",
            "dense_2 (Dense)              (None, 3)                 153       \n",
            "=================================================================\n",
            "Total params: 5,703\n",
            "Trainable params: 5,703\n",
            "Non-trainable params: 0\n",
            "_________________________________________________________________\n"
          ],
          "name": "stdout"
        }
      ]
    },
    {
      "cell_type": "code",
      "metadata": {
        "id": "Y1v7S8m3VAUf"
      },
      "source": [
        "#compiling the model\n",
        "model_c.compile(loss='categorical_crossentropy',\n",
        "                optimizer=SGD(lr=0.0001),\n",
        "                metrics=['accuracy'])\n",
        "\n",
        "#training the model\n",
        "history = model_c.fit(feature_train, y_train_categorical,\n",
        "                      batch_size=16,\n",
        "                      epochs=50,\n",
        "                      verbose=0)"
      ],
      "execution_count": null,
      "outputs": []
    },
    {
      "cell_type": "code",
      "metadata": {
        "colab": {
          "base_uri": "https://localhost:8080/",
          "height": 295
        },
        "id": "4-hfvz0fvea5",
        "outputId": "0f3bea0d-d806-4f97-decb-2cd2a46a9456"
      },
      "source": [
        "#plotting training loss\n",
        "plt.figure\n",
        "plt.title('Training Loss')\n",
        "plt.plot(history.history['loss'])\n",
        "plt.xlabel('Epoch')\n",
        "plt.ylabel('Accuracy')\n",
        "plt.show()"
      ],
      "execution_count": null,
      "outputs": [
        {
          "output_type": "display_data",
          "data": {
            "image/png": "[encoded data removed]",
            "text/plain": [
              "<Figure size 432x288 with 1 Axes>"
            ]
          },
          "metadata": {
            "tags": [],
            "needs_background": "light"
          }
        }
      ]
    },
    {
      "cell_type": "code",
      "metadata": {
        "colab": {
          "base_uri": "https://localhost:8080/"
        },
        "id": "p9tGSomavMXy",
        "outputId": "e44660bf-f0ad-4c87-bfe4-f65814e67a68"
      },
      "source": [
        "#obtaining loss and accuracy of train dataset\n",
        "scores = model_c.evaluate(feature_train, y_train_categorical)\n",
        "print('Model loss = {}'.format(scores[0]))\n",
        "print('Model Accuracy = {}'.format(scores[1]))"
      ],
      "execution_count": null,
      "outputs": [
        {
          "output_type": "stream",
          "text": [
            "466/466 [==============================] - 1s 2ms/step - loss: 0.2970 - accuracy: 0.8925\n",
            "Model loss = 0.29702070355415344\n",
            "Model Accuracy = 0.8925431370735168\n"
          ],
          "name": "stdout"
        }
      ]
    },
    {
      "cell_type": "code",
      "metadata": {
        "colab": {
          "base_uri": "https://localhost:8080/"
        },
        "id": "-a_TgpNHxQJ6",
        "outputId": "40655f0e-424f-4c07-958f-7ba19b687ca0"
      },
      "source": [
        "#obtaining loss and accuracy of validation data set\n",
        "scores = model_c.evaluate(feature_val, y_val_categorical)\n",
        "print('Model loss = {}'.format(scores[0]))\n",
        "print('Model Accuracy = {}'.format(scores[1]))"
      ],
      "execution_count": null,
      "outputs": [
        {
          "output_type": "stream",
          "text": [
            "117/117 [==============================] - 0s 2ms/step - loss: 0.2929 - accuracy: 0.8934\n",
            "Model loss = 0.2929466962814331\n",
            "Model Accuracy = 0.8933941721916199\n"
          ],
          "name": "stdout"
        }
      ]
    },
    {
      "cell_type": "markdown",
      "metadata": {
        "id": "vYSc63ey5tzF"
      },
      "source": [
        "#Answer to 3f\n",
        "The main behavior which can be observed based on the metrics gathered while training and validating the classification model with different configurations is that as the number of nodes and layers increase in the model, the cost error based on the loss function decreases in almost every model. Moreover, the accuracy of the model behaves opposite to the loss function and it increases as more nodes and layers are added to the classification model. This trend of decreasing cost error and increasing accuracy, can also be observed with the validation dataset. Finally, it is important to note that cost error and accuracy are almost identical when comparing the results from the training and validation sets in each model. Based on this analysis, it can be observed that model#5 contains the lowest cost error, as well as the highest accuracy for the training data set. Similarly, the validation dataset also contains the lowest cost error. Nevertheless, the accuracy of the is only the second highest. It is important to note as well that, even though the validation data set did not provide the highest accuracy of all models, it possess the second highest accuracy. Moreover, it is important to emphasize as well that model 5 accuracy was extremely close to being the highest. This indicates that model 5 is doing the best job at classifying the data samples and reducing overfitting of the model. With this information, it can be concluded that the quality of training of model 5 surpasses all prior models and is more suitable for this specific scenario"
      ]
    },
    {
      "cell_type": "code",
      "metadata": {
        "colab": {
          "base_uri": "https://localhost:8080/"
        },
        "id": "Rz4rfX3-5BTU",
        "outputId": "5e1cf3d7-eeae-46a3-f8de-5e758bc8ffde"
      },
      "source": [
        "#obtaining loss and accuracy of test data set\n",
        "scores = model_c.evaluate(feature_test, y_test_categorical)\n",
        "print('Model loss = {}'.format(scores[0]))\n",
        "print('Model Accuracy = {}'.format(scores[1]))"
      ],
      "execution_count": null,
      "outputs": [
        {
          "output_type": "stream",
          "text": [
            "99/99 [==============================] - 0s 2ms/step - loss: 0.3171 - accuracy: 0.8808\n",
            "Model loss = 0.31707820296287537\n",
            "Model Accuracy = 0.8808388710021973\n"
          ],
          "name": "stdout"
        }
      ]
    }
  ]
}